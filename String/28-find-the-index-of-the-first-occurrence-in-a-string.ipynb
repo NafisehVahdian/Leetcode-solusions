{
 "cells": [
  {
   "cell_type": "markdown",
   "id": "43715ac1-b34b-4465-b763-88db185c0ec0",
   "metadata": {},
   "source": [
    "## Here is the description of the question:\n",
    "\n",
    "Given two strings needle and haystack, return the index of the first occurrence of needle in haystack, or -1 if needle is not part of haystack.\n",
    "<br>\n",
    " \n",
    "\n",
    "Example 1:<br><br>\n",
    "\n",
    "Input: haystack = \"sadbutsad\", needle = \"sad\"<br>\n",
    "Output: 0<br>\n",
    "Explanation: \"sad\" occurs at index 0 and 6.<br>\n",
    "The first occurrence is at index 0, so we return 0.<br>\n",
    "Example 2:<br><br>\n",
    "\n",
    "Input: haystack = \"leetcode\", needle = \"leeto\"<br>\n",
    "Output: -1<br>\n",
    "Explanation: \"leeto\" did not occur in \"leetcode\", so we return -1."
   ]
  },
  {
   "cell_type": "code",
   "execution_count": 26,
   "id": "c6174bdc-e248-4939-b403-2e5597a27348",
   "metadata": {},
   "outputs": [],
   "source": [
    "def strStr(haystack, needle):\n",
    "    if needle in haystack:\n",
    "        return(haystack.index(needle))\n",
    "    else:\n",
    "        return(-1)"
   ]
  },
  {
   "cell_type": "markdown",
   "id": "0b5a4988-6811-4073-b2d1-9da77de9e4ca",
   "metadata": {},
   "source": [
    "## This question was really a good choice when you have worked until late night and just want to solve something before sleep :)\n",
    "## Good night!"
   ]
  }
 ],
 "metadata": {
  "kernelspec": {
   "display_name": "Python 3 (ipykernel)",
   "language": "python",
   "name": "python3"
  },
  "language_info": {
   "codemirror_mode": {
    "name": "ipython",
    "version": 3
   },
   "file_extension": ".py",
   "mimetype": "text/x-python",
   "name": "python",
   "nbconvert_exporter": "python",
   "pygments_lexer": "ipython3",
   "version": "3.10.5"
  }
 },
 "nbformat": 4,
 "nbformat_minor": 5
}
