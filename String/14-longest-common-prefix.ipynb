{
 "cells": [
  {
   "cell_type": "markdown",
   "id": "04e0806a-2e92-4ce6-94df-d56bdb70db6a",
   "metadata": {},
   "source": [
    "## Here is the description of the question:\n",
    "\n",
    "Write a function to find the longest common prefix string amongst an array of strings.<br>\n",
    "\n",
    "If there is no common prefix, return an empty string \"\".<br>\n",
    "\n",
    " <br>\n",
    "\n",
    "Example 1:<br><br>\n",
    "\n",
    "Input: strs = [\"flower\",\"flow\",\"flight\"]<br>\n",
    "Output: \"fl\"<br><br>\n",
    "Example 2:<br><br>\n",
    "\n",
    "Input: strs = [\"dog\",\"racecar\",\"car\"]<br>\n",
    "Output: \"\"<br>\n",
    "Explanation: There is no common prefix among the input strings."
   ]
  },
  {
   "cell_type": "code",
   "execution_count": 122,
   "id": "0a88d48b-2bfa-4e1c-8f9e-f921b022c04c",
   "metadata": {},
   "outputs": [
    {
     "name": "stdout",
     "output_type": "stream",
     "text": [
      "fl\n",
      "flo\n",
      "flow\n",
      "flow\n",
      "flowe\n",
      "flowe\n",
      "flower\n"
     ]
    }
   ],
   "source": [
    "strs = [\"flower\",\"flow\",\"flight\"]\n",
    "prefix = \"\"\n",
    "for i in range(len(strs[0])):\n",
    "    char = strs[0][i]\n",
    "    for word in strs[1:]:\n",
    "        if i >= len(word) or word[i] != char:\n",
    "            print(prefix)\n",
    "    prefix += char\n",
    "print(prefix)"
   ]
  },
  {
   "cell_type": "code",
   "execution_count": null,
   "id": "af4a328a-5e2c-4229-bc8a-7bb22723e174",
   "metadata": {},
   "outputs": [],
   "source": []
  }
 ],
 "metadata": {
  "kernelspec": {
   "display_name": "Python 3 (ipykernel)",
   "language": "python",
   "name": "python3"
  },
  "language_info": {
   "codemirror_mode": {
    "name": "ipython",
    "version": 3
   },
   "file_extension": ".py",
   "mimetype": "text/x-python",
   "name": "python",
   "nbconvert_exporter": "python",
   "pygments_lexer": "ipython3",
   "version": "3.10.5"
  }
 },
 "nbformat": 4,
 "nbformat_minor": 5
}
