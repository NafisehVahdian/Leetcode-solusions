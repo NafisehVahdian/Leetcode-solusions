{
 "cells": [
  {
   "cell_type": "markdown",
   "id": "e8616cc2-f027-45cb-8dd0-08af31f4d9df",
   "metadata": {},
   "source": [
    "Given an array nums of size n, return the majority element.<br>\n",
    "\n",
    "The majority element is the element that appears more than ⌊n / 2⌋ times. You may assume that the majority element always exists in the array."
   ]
  },
  {
   "cell_type": "code",
   "execution_count": 8,
   "id": "fd063319-670b-4499-8e67-73e38c997888",
   "metadata": {},
   "outputs": [],
   "source": [
    "ll.sort()"
   ]
  },
  {
   "cell_type": "code",
   "execution_count": 9,
   "id": "c9801d5d-2daf-40c9-bc51-ee069f8bb4b7",
   "metadata": {},
   "outputs": [
    {
     "name": "stdout",
     "output_type": "stream",
     "text": [
      "[1, 1, 2, 2, 3, 3, 3, 3, 4, 4, 6, 24]\n"
     ]
    }
   ],
   "source": [
    "print(ll)"
   ]
  },
  {
   "cell_type": "code",
   "execution_count": 10,
   "id": "60ed7864-538a-4d68-bf1d-fe5d0f945398",
   "metadata": {},
   "outputs": [
    {
     "ename": "AttributeError",
     "evalue": "'list' object has no attribute 'drop'",
     "output_type": "error",
     "traceback": [
      "\u001b[1;31m---------------------------------------------------------------------------\u001b[0m",
      "\u001b[1;31mAttributeError\u001b[0m                            Traceback (most recent call last)",
      "Cell \u001b[1;32mIn[10], line 1\u001b[0m\n\u001b[1;32m----> 1\u001b[0m \u001b[43mll\u001b[49m\u001b[38;5;241;43m.\u001b[39;49m\u001b[43mdrop\u001b[49m(\u001b[38;5;241m24\u001b[39m)\n",
      "\u001b[1;31mAttributeError\u001b[0m: 'list' object has no attribute 'drop'"
     ]
    }
   ],
   "source": [
    "ll.drop(24)"
   ]
  },
  {
   "cell_type": "code",
   "execution_count": 11,
   "id": "8d9495b2-b841-46df-a91d-051e463f2e66",
   "metadata": {},
   "outputs": [],
   "source": [
    "ll.remove(24)"
   ]
  },
  {
   "cell_type": "code",
   "execution_count": 12,
   "id": "8bad2e22-ea68-4087-a1e7-3b0bf62afca4",
   "metadata": {},
   "outputs": [
    {
     "data": {
      "text/plain": [
       "[1, 1, 2, 2, 3, 3, 3, 3, 4, 4, 6]"
      ]
     },
     "execution_count": 12,
     "metadata": {},
     "output_type": "execute_result"
    }
   ],
   "source": [
    "ll\n"
   ]
  },
  {
   "cell_type": "code",
   "execution_count": 15,
   "id": "c48d8bb9-e5ce-4049-a4cf-94d81b48aa72",
   "metadata": {},
   "outputs": [],
   "source": [
    "def \n",
    "for i in range(len(ll)-2):\n",
    "    if ll[i] == ll[i+1]:\n",
    "        ll.remove(ll[i])"
   ]
  },
  {
   "cell_type": "code",
   "execution_count": null,
   "id": "a4f2cebe-04d6-4648-b97c-c8a897d2f8a2",
   "metadata": {},
   "outputs": [],
   "source": []
  },
  {
   "cell_type": "code",
   "execution_count": 16,
   "id": "b1bcbd0f-45e0-4a20-9e8a-9bda984a97c3",
   "metadata": {},
   "outputs": [
    {
     "ename": "NameError",
     "evalue": "name 'مم' is not defined",
     "output_type": "error",
     "traceback": [
      "\u001b[1;31m---------------------------------------------------------------------------\u001b[0m",
      "\u001b[1;31mNameError\u001b[0m                                 Traceback (most recent call last)",
      "Cell \u001b[1;32mIn[16], line 1\u001b[0m\n\u001b[1;32m----> 1\u001b[0m \u001b[43mمم\u001b[49m\n",
      "\u001b[1;31mNameError\u001b[0m: name 'مم' is not defined"
     ]
    }
   ],
   "source": [
    "مم"
   ]
  },
  {
   "cell_type": "code",
   "execution_count": 17,
   "id": "3dc9388e-1938-462b-af2a-da8b0830e380",
   "metadata": {},
   "outputs": [
    {
     "data": {
      "text/plain": [
       "[1, 2, 3, 4, 6]"
      ]
     },
     "execution_count": 17,
     "metadata": {},
     "output_type": "execute_result"
    }
   ],
   "source": [
    "ll"
   ]
  },
  {
   "cell_type": "code",
   "execution_count": null,
   "id": "ec3bdff3-f90f-4c69-9448-7ef552b31838",
   "metadata": {},
   "outputs": [],
   "source": [
    "Given an array nums of size n, return the majority element.\n",
    "\n",
    "The majority element is the element that appears more than ⌊n / 2⌋ times. You may assume that the majority element always exists in the array.\n",
    "\n",
    " \n",
    "\n",
    "Example 1:\n",
    "\n",
    "Input: nums = [3,2,3]\n",
    "Output: 3\n",
    "Example 2:\n",
    "\n",
    "Input: nums = [2,2,1,1,1,2,2]\n",
    "Output: 2\n",
    " "
   ]
  },
  {
   "cell_type": "code",
   "execution_count": 26,
   "id": "9db5f20e-1c40-47b4-b9ca-e5402e11d6e8",
   "metadata": {},
   "outputs": [],
   "source": [
    "nums = [6,5,5]"
   ]
  },
  {
   "cell_type": "code",
   "execution_count": 27,
   "id": "df428983-0173-4e22-8f89-790e8763c766",
   "metadata": {},
   "outputs": [],
   "source": [
    "unique = []\n",
    "for i in nums:\n",
    "    if i not in unique:\n",
    "        unique.append(i)"
   ]
  },
  {
   "cell_type": "code",
   "execution_count": 28,
   "id": "16a63bc0-6888-4ed8-9dda-804b402c2feb",
   "metadata": {},
   "outputs": [
    {
     "name": "stdout",
     "output_type": "stream",
     "text": [
      "5\n"
     ]
    }
   ],
   "source": [
    "for i in unique:\n",
    "    if nums.count(i)>= len(nums)/2:\n",
    "        print(i)"
   ]
  },
  {
   "cell_type": "code",
   "execution_count": 29,
   "id": "e2c3269c-d915-4d57-b7c3-b50df1dcc07f",
   "metadata": {},
   "outputs": [
    {
     "data": {
      "text/plain": [
       "[6, 5]"
      ]
     },
     "execution_count": 29,
     "metadata": {},
     "output_type": "execute_result"
    }
   ],
   "source": [
    "unique"
   ]
  },
  {
   "cell_type": "code",
   "execution_count": null,
   "id": "edffaaec-739e-42c2-9ea7-38b634d1de2d",
   "metadata": {},
   "outputs": [],
   "source": [
    "class Solution(object):\n",
    "    def majorityElement(self, nums):\n",
    "    unique = []\n",
    "        for i in nums:\n",
    "            if i not in unique:\n",
    "                unique.append(i)\n",
    "    for i in unique:\n",
    "        if nums.count(i)>= len(nums)/2:\n",
    "            return(i)"
   ]
  },
  {
   "cell_type": "code",
   "execution_count": 32,
   "id": "3c3126e7-8d88-4fce-94a5-8fb8e996a888",
   "metadata": {},
   "outputs": [],
   "source": [
    "class Solution(object):\n",
    "    def majorityElement(self, nums):\n",
    "        unique = []\n",
    "        for i in nums:\n",
    "            if i not in unique:\n",
    "                unique.append(i)\n",
    "        for i in unique:\n",
    "            if nums.count(i)>= len(nums)/2:\n",
    "                return(i)\n",
    "        "
   ]
  },
  {
   "cell_type": "code",
   "execution_count": 34,
   "id": "76652b16-1649-42cf-9976-73a14bc67a86",
   "metadata": {},
   "outputs": [
    {
     "ename": "TypeError",
     "evalue": "Solution.majorityElement() missing 1 required positional argument: 'nums'",
     "output_type": "error",
     "traceback": [
      "\u001b[1;31m---------------------------------------------------------------------------\u001b[0m",
      "\u001b[1;31mTypeError\u001b[0m                                 Traceback (most recent call last)",
      "Cell \u001b[1;32mIn[34], line 1\u001b[0m\n\u001b[1;32m----> 1\u001b[0m \u001b[43mSolution\u001b[49m\u001b[38;5;241;43m.\u001b[39;49m\u001b[43mmajorityElement\u001b[49m\u001b[43m(\u001b[49m\u001b[43m[\u001b[49m\u001b[38;5;241;43m6\u001b[39;49m\u001b[43m,\u001b[49m\u001b[38;5;241;43m5\u001b[39;49m\u001b[43m,\u001b[49m\u001b[38;5;241;43m5\u001b[39;49m\u001b[43m]\u001b[49m\u001b[43m)\u001b[49m\n",
      "\u001b[1;31mTypeError\u001b[0m: Solution.majorityElement() missing 1 required positional argument: 'nums'"
     ]
    }
   ],
   "source": []
  },
  {
   "cell_type": "code",
   "execution_count": null,
   "id": "df6938cc-69a0-46d5-91ab-c02a0036330a",
   "metadata": {},
   "outputs": [],
   "source": []
  }
 ],
 "metadata": {
  "kernelspec": {
   "display_name": "Python 3 (ipykernel)",
   "language": "python",
   "name": "python3"
  },
  "language_info": {
   "codemirror_mode": {
    "name": "ipython",
    "version": 3
   },
   "file_extension": ".py",
   "mimetype": "text/x-python",
   "name": "python",
   "nbconvert_exporter": "python",
   "pygments_lexer": "ipython3",
   "version": "3.10.5"
  }
 },
 "nbformat": 4,
 "nbformat_minor": 5
}
