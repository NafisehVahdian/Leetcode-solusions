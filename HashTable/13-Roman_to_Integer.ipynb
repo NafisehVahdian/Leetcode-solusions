{
 "cells": [
  {
   "cell_type": "markdown",
   "id": "6d3021e6-bed1-4e96-a2f4-8197d7d99949",
   "metadata": {},
   "source": [
    "## The description of the question is here:\n",
    "Roman numerals are represented by seven different symbols: I, V, X, L, C, D and M.\n",
    "\n",
    "<br>\n",
    "\n",
    "Symbol       Value\n",
    "<br>\n",
    "I            1\n",
    "<br>\n",
    "V             5\n",
    "<br>\n",
    "X             10\n",
    "<br>\n",
    "L            50\n",
    "<br>\n",
    "C             100\n",
    "<br>\n",
    "D            500\n",
    "<br>\n",
    "M            1000\n",
    "<br>\n",
    "For example, 2 is written as II in Roman numeral, just two ones added together. 12 is written as XII, which is simply X + II. The number 27 is written as XXVII, which is XX + V + II.\n",
    "<br>\n",
    "\n",
    "Roman numerals are usually written largest to smallest from left to right. However, the numeral for four is not IIII. Instead, the number four is written as IV. Because the one is before the five we subtract it making four. The same principle applies to the number nine, which is written as IX. There are six instances where subtraction is used:\n",
    "<br>\n",
    "\n",
    "I can be placed before V (5) and X (10) to make 4 and 9. \n",
    "<br>\n",
    "X can be placed before L (50) and C (100) to make 40 and 90. \n",
    "<br>\n",
    "C can be placed before D (500) and M (1000) to make 400 and 900.\n",
    "<br>\n",
    "Given a roman numeral, convert it to an integer.\n",
    "<br>\n",
    "\n",
    " \n",
    "\n",
    "Example 1:<br>\n",
    "Input: s = \"III\"<br>\n",
    "Output: 3<br>\n",
    "Explanation: III = 3.<br>\n",
    "<br>\n",
    "Example 2:<br>\n",
    "Input: s = \"LVIII\"<br>\n",
    "Output: 58<br>\n",
    "Explanation: L = 50, V= 5, III = 3.<br>\n",
    "<br>\n",
    "Example 3:<br>\n",
    "Input: s = \"MCMXCIV\"<br>\n",
    "Output: 1994<br>\n",
    "Explanation: M = 1000, CM = 900, XC = 90 and IV = 4.<br>\n",
    " <br>\n",
    "\n",
    "Constraints:<br>\n",
    "\n",
    "1 <= s.length <= 15<br>\n",
    "s contains only the characters ('I', 'V', 'X', 'L', 'C', 'D', 'M').<br>\n",
    "It is guaranteed that s is a valid roman numeral in the range [1, 3999]."
   ]
  },
  {
   "cell_type": "code",
   "execution_count": 3,
   "id": "8ea78c07-0cb7-48ab-b9b0-133570fca281",
   "metadata": {},
   "outputs": [],
   "source": [
    "def romanToInt(s):\n",
    "    roman_map = {\n",
    "        'I': 1, 'V': 5, 'X': 10, 'L': 50,\n",
    "        'C': 100, 'D': 500, 'M': 1000\n",
    "    }\n",
    "\n",
    "    result = 0\n",
    "\n",
    "    for i in range(len(s)):\n",
    "        # Check if this is a subtractive case\n",
    "        if i + 1 < len(s) and roman_map[s[i]] < roman_map[s[i + 1]]:\n",
    "            result -= roman_map[s[i]]\n",
    "        else:\n",
    "            result += roman_map[s[i]]\n",
    "\n",
    "    return result\n"
   ]
  },
  {
   "cell_type": "code",
   "execution_count": 16,
   "id": "16f13449-997a-4b98-90a5-bac4a605392e",
   "metadata": {},
   "outputs": [
    {
     "data": {
      "text/plain": [
       "1994"
      ]
     },
     "execution_count": 16,
     "metadata": {},
     "output_type": "execute_result"
    }
   ],
   "source": [
    "romanToInt('MCMXCIV')"
   ]
  },
  {
   "cell_type": "code",
   "execution_count": 15,
   "id": "fe81f954-bd91-4b5d-8352-9b3460c41ca6",
   "metadata": {},
   "outputs": [],
   "source": [
    " def romanToInt(s):\n",
    "    roman_map = {\n",
    "            'I': 1, 'V': 5, 'X': 10, 'L': 50,\n",
    "            'C': 100, 'D': 500, 'M': 1000,\n",
    "            'IV': 4, 'IX': 9,\n",
    "            'XL': 40, 'XC': 90,\n",
    "            'CD': 400, 'CM': 900\n",
    "        }\n",
    "\n",
    "    i = 0\n",
    "    result = 0\n",
    "\n",
    "    while i < len(s):\n",
    "            # Try to match 2-character substrings like 'IV', 'IX', etc.\n",
    "        if i + 1 < len(s) and s[i:i+2] in roman_map:\n",
    "            result += roman_map[s[i:i+2]]\n",
    "            i += 2\n",
    "        else:\n",
    "            result += roman_map[s[i]]\n",
    "            i += 1\n",
    "\n",
    "    return result\n"
   ]
  },
  {
   "cell_type": "code",
   "execution_count": null,
   "id": "44052733-b228-441e-bf3c-399589d738e3",
   "metadata": {},
   "outputs": [],
   "source": []
  }
 ],
 "metadata": {
  "kernelspec": {
   "display_name": "Python 3 (ipykernel)",
   "language": "python",
   "name": "python3"
  },
  "language_info": {
   "codemirror_mode": {
    "name": "ipython",
    "version": 3
   },
   "file_extension": ".py",
   "mimetype": "text/x-python",
   "name": "python",
   "nbconvert_exporter": "python",
   "pygments_lexer": "ipython3",
   "version": "3.10.5"
  }
 },
 "nbformat": 4,
 "nbformat_minor": 5
}
