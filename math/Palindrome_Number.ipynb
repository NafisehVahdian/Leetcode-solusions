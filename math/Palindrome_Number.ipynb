{
 "cells": [
  {
   "cell_type": "markdown",
   "id": "a355941f-37c4-46d0-b9c3-c983dcafe6ee",
   "metadata": {},
   "source": [
    "## The link of the quetion is:\n",
    "https://leetcode.com/problems/palindrome-number/description/\n"
   ]
  },
  {
   "cell_type": "markdown",
   "id": "a352dae0-d9eb-4592-b4de-5cb6fa7361e9",
   "metadata": {},
   "source": [
    "## Then here is the description of the question:\n",
    "\n",
    "Given an integer x, return true if x is a palindrome, and false otherwise.\n",
    "\n",
    " \n",
    "\n",
    "Example 1:\n",
    "\n",
    "Input: x = 121\n",
    "Output: true\n",
    "Explanation: 121 reads as 121 from left to right and from right to left.\n",
    "Example 2:\n",
    "\n",
    "Input: x = -121\n",
    "Output: false\n",
    "Explanation: From left to right, it reads -121. From right to left, it becomes 121-. Therefore it is not a palindrome.\n",
    "Example 3:\n",
    "\n",
    "Input: x = 10\n",
    "Output: false\n",
    "Explanation: Reads 01 from right to left. Therefore it is not a palindrome.\n",
    " "
   ]
  },
  {
   "cell_type": "code",
   "execution_count": 3,
   "id": "cb8a29db-ce03-4cd1-8fcd-4712009083ac",
   "metadata": {},
   "outputs": [
    {
     "name": "stdin",
     "output_type": "stream",
     "text": [
      "Enter the number here please 374653\n"
     ]
    },
    {
     "name": "stdout",
     "output_type": "stream",
     "text": [
      "False\n"
     ]
    }
   ],
   "source": [
    "# solution 1:\n",
    "number = input('Enter the number here please')\n",
    "print( number == number[::-1])"
   ]
  },
  {
   "cell_type": "code",
   "execution_count": 4,
   "id": "f080d23d-06ca-48ec-8718-9b476aa2fea0",
   "metadata": {},
   "outputs": [
    {
     "name": "stdin",
     "output_type": "stream",
     "text": [
      "Enter the number here please 767\n"
     ]
    },
    {
     "name": "stdout",
     "output_type": "stream",
     "text": [
      "True\n"
     ]
    }
   ],
   "source": [
    "# and here is the second approach we can take:\n",
    "\n",
    "number = input('Enter the number here please')\n",
    "forward_list = []\n",
    "backward_list = []\n",
    "for i in number:\n",
    "    forward_list.append(i)\n",
    "for i in range(len(number), 0, -1):\n",
    "    backward_list.append(number[i-1])\n",
    "if backward_list == forward_list:\n",
    "    print (True)\n",
    "else:\n",
    "    print (False)"
   ]
  }
 ],
 "metadata": {
  "kernelspec": {
   "display_name": "Python 3 (ipykernel)",
   "language": "python",
   "name": "python3"
  },
  "language_info": {
   "codemirror_mode": {
    "name": "ipython",
    "version": 3
   },
   "file_extension": ".py",
   "mimetype": "text/x-python",
   "name": "python",
   "nbconvert_exporter": "python",
   "pygments_lexer": "ipython3",
   "version": "3.10.5"
  }
 },
 "nbformat": 4,
 "nbformat_minor": 5
}
