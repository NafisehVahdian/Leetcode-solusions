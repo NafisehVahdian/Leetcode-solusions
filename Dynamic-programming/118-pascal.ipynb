{
 "cells": [
  {
   "cell_type": "markdown",
   "id": "8e7eb567-3045-470d-a79c-ad4c2fedf321",
   "metadata": {},
   "source": [
    "Pascal Triangle question:\n",
    "for pascal triangle question at first we have to define listst"
   ]
  },
  {
   "cell_type": "code",
   "execution_count": 9,
   "id": "7c76c19d-849f-44b8-a86a-78a3a0022c59",
   "metadata": {},
   "outputs": [],
   "source": [
    "row_number = 5\n",
    "final_answer = []\n",
    "row = [1]\n",
    "for i in range (row_number):\n",
    "    final_answer.append(row)\n",
    "    row = [a + b for a , b in zip([0] + row, row + [0])]"
   ]
  },
  {
   "cell_type": "code",
   "execution_count": 10,
   "id": "c5a0369f-6e75-4fae-9a8c-168548f6b05d",
   "metadata": {},
   "outputs": [
    {
     "data": {
      "text/plain": [
       "[[1], [1, 1], [1, 2, 1], [1, 3, 3, 1], [1, 4, 6, 4, 1]]"
      ]
     },
     "execution_count": 10,
     "metadata": {},
     "output_type": "execute_result"
    }
   ],
   "source": [
    "final_answer"
   ]
  },
  {
   "cell_type": "code",
   "execution_count": null,
   "id": "61da0028-2f82-4885-93a7-549929d08148",
   "metadata": {},
   "outputs": [],
   "source": []
  }
 ],
 "metadata": {
  "kernelspec": {
   "display_name": "Python 3 (ipykernel)",
   "language": "python",
   "name": "python3"
  },
  "language_info": {
   "codemirror_mode": {
    "name": "ipython",
    "version": 3
   },
   "file_extension": ".py",
   "mimetype": "text/x-python",
   "name": "python",
   "nbconvert_exporter": "python",
   "pygments_lexer": "ipython3",
   "version": "3.10.5"
  }
 },
 "nbformat": 4,
 "nbformat_minor": 5
}
